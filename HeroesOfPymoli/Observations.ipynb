{
 "cells": [
  {
   "cell_type": "markdown",
   "id": "71a8224f",
   "metadata": {},
   "source": [
    "Description of three observable trends based on the data\n",
    "1.As player's age increases , player count is reduced  .\n",
    "2.Final Critic item  has the highest price value and purchase count.\n",
    "3.Male players are high in number even when females combined with Other / Non-Disclosed gender ."
   ]
  }
 ],
 "metadata": {
  "kernelspec": {
   "display_name": "Python 3",
   "language": "python",
   "name": "python3"
  },
  "language_info": {
   "codemirror_mode": {
    "name": "ipython",
    "version": 3
   },
   "file_extension": ".py",
   "mimetype": "text/x-python",
   "name": "python",
   "nbconvert_exporter": "python",
   "pygments_lexer": "ipython3",
   "version": "3.8.8"
  }
 },
 "nbformat": 4,
 "nbformat_minor": 5
}
